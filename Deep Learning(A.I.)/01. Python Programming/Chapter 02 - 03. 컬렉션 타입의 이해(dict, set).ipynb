{
 "cells": [
  {
   "cell_type": "markdown",
   "metadata": {},
   "source": [
    "## 학습목표\n",
    " 1. dictionary, set에 대해 이해 및 실습\n"
   ]
  },
  {
   "cell_type": "markdown",
   "metadata": {},
   "source": [
    "### **dictionary**\n",
    " + 키와 값을 갖는 데이터 구조\n",
    " + 키는 내부적으로 hash값으로 저장\n",
    " + 순서를 따지지 않음. 즉, 인덱스가 없음"
   ]
  },
  {
   "cell_type": "code",
   "execution_count": 3,
   "metadata": {},
   "outputs": [
    {
     "name": "stdout",
     "output_type": "stream",
     "text": [
      "Seoul\n"
     ]
    }
   ],
   "source": [
    "a = {'Korea': 'Seoul', \n",
    "    'Canada': 'Ottawa',\n",
    "    'USA': 'Washington D.C'}\n",
    "\n",
    "b = {}\n",
    "type(a)\n",
    "print(a['Korea'])"
   ]
  },
  {
   "cell_type": "markdown",
   "metadata": {},
   "source": [
    "+ **항목 추가 및 변경**\n",
    " - 기존에 키가 존재 하면, 새로운 값으로 업데이트\n",
    " - 존재하지 않으면, 새로운 키, 값 생성\n",
    " "
   ]
  },
  {
   "cell_type": "code",
   "execution_count": 6,
   "metadata": {},
   "outputs": [
    {
     "name": "stdout",
     "output_type": "stream",
     "text": [
      "{'Korea': 'Seoul', 'Canada': 'Ottawa', 'USA': 'Washington D.C', 'Japan': 'Kyoto', 'China': 'Beijing'}\n"
     ]
    }
   ],
   "source": [
    "a = {'Korea': 'Seoul', \n",
    "    'Canada': 'Ottawa',\n",
    "    'USA': 'Washington D.C'}\n",
    "\n",
    "a['Japan'] = 'Tokyo'\n",
    "a['Japan'] = 'Kyoto'\n",
    "a['China'] = 'Beijing'\n",
    "print(a)"
   ]
  },
  {
   "cell_type": "markdown",
   "metadata": {},
   "source": [
    "+ **update()**\n",
    " * 두 딕셔너리를 병합함\n",
    " * 겹치는 키가 있다면 parameter로 전달되는 키 값이 overwrite된다."
   ]
  },
  {
   "cell_type": "code",
   "execution_count": 7,
   "metadata": {},
   "outputs": [
    {
     "name": "stdout",
     "output_type": "stream",
     "text": [
      "{'a': 2, 'b': 2, 'c': 3, 'd': 4, 'e': 5}\n"
     ]
    }
   ],
   "source": [
    "a = {'a': 1, 'b': 2, 'c':3}\n",
    "b = {'a': 2, 'd': 4, 'e':5}\n",
    "\n",
    "a.update(b)\n",
    "print(a)"
   ]
  },
  {
   "cell_type": "markdown",
   "metadata": {},
   "source": [
    "* **key삭제**\n",
    " - del 키워드 사용\n",
    " - pop 함수 이용"
   ]
  },
  {
   "cell_type": "code",
   "execution_count": 9,
   "metadata": {},
   "outputs": [
    {
     "name": "stdout",
     "output_type": "stream",
     "text": [
      "{'a': 1, 'b': 2, 'c': 3}\n",
      "{'b': 2, 'c': 3}\n"
     ]
    }
   ],
   "source": [
    "a = {'a': 1, 'b': 2, 'c':3}\n",
    "print(a)\n",
    "# a.pop('b')\n",
    "del a['a']\n",
    "print(a)"
   ]
  },
  {
   "cell_type": "markdown",
   "metadata": {},
   "source": [
    "* **clear()**\n",
    " + 딕셔너리의 모든 값을 초기화\n"
   ]
  },
  {
   "cell_type": "code",
   "execution_count": 11,
   "metadata": {},
   "outputs": [
    {
     "ename": "NameError",
     "evalue": "name 'c' is not defined",
     "output_type": "error",
     "traceback": [
      "\u001b[1;31m---------------------------------------------------------------------------\u001b[0m",
      "\u001b[1;31mNameError\u001b[0m                                 Traceback (most recent call last)",
      "\u001b[1;32m<ipython-input-11-ce9f7e332dad>\u001b[0m in \u001b[0;36m<module>\u001b[1;34m\u001b[0m\n\u001b[0;32m      1\u001b[0m \u001b[0mc\u001b[0m \u001b[1;33m=\u001b[0m \u001b[1;36m100\u001b[0m\u001b[1;33m\u001b[0m\u001b[1;33m\u001b[0m\u001b[0m\n\u001b[0;32m      2\u001b[0m \u001b[1;32mdel\u001b[0m \u001b[0mc\u001b[0m\u001b[1;33m\u001b[0m\u001b[1;33m\u001b[0m\u001b[0m\n\u001b[1;32m----> 3\u001b[1;33m \u001b[0mprint\u001b[0m\u001b[1;33m(\u001b[0m\u001b[0mc\u001b[0m\u001b[1;33m)\u001b[0m\u001b[1;33m\u001b[0m\u001b[1;33m\u001b[0m\u001b[0m\n\u001b[0m",
      "\u001b[1;31mNameError\u001b[0m: name 'c' is not defined"
     ]
    }
   ],
   "source": [
    "c = 100\n",
    "del c\n",
    "print(c)"
   ]
  },
  {
   "cell_type": "code",
   "execution_count": 12,
   "metadata": {},
   "outputs": [
    {
     "name": "stdout",
     "output_type": "stream",
     "text": [
      "{'b': 2, 'c': 3}\n",
      "{}\n"
     ]
    }
   ],
   "source": [
    "print(a)\n",
    "a.clear()\n",
    "print(a)"
   ]
  },
  {
   "cell_type": "markdown",
   "metadata": {},
   "source": [
    "* **in**\n",
    " + key값 존재 확인\n",
    " + O(1) 연산 - 딕셔너리의 크기와 관계없이 항상 연산의 속도가 일정하다는 의미"
   ]
  },
  {
   "cell_type": "code",
   "execution_count": 14,
   "metadata": {},
   "outputs": [
    {
     "name": "stdout",
     "output_type": "stream",
     "text": [
      "{'a': 1, 'b': 2, 'c': 3}\n",
      "True\n",
      "True\n"
     ]
    }
   ],
   "source": [
    "a = {'a': 1, 'b': 2, 'c':3}\n",
    "print(a)\n",
    "\n",
    "b = [1, 2, 3, 4, 5, 6, 7, 100]\n",
    "\n",
    "print(100 in b)\n",
    "print('b' in a)"
   ]
  },
  {
   "cell_type": "markdown",
   "metadata": {},
   "source": [
    "* **value access**\n",
    " + dict[key]로 접급, 키가 없는 경우 에러 발생 \n",
    " + .get() 함수로 접근, 키가 없는 경우 None반환"
   ]
  },
  {
   "cell_type": "code",
   "execution_count": 19,
   "metadata": {},
   "outputs": [
    {
     "name": "stdout",
     "output_type": "stream",
     "text": [
      "2\n",
      "None\n"
     ]
    }
   ],
   "source": [
    "print(a.get('b'))\n",
    "print(a.get('d'))\n",
    "# print(a['d']) error\n",
    "\n",
    "if 'd' in a:\n",
    "    print(a['d'])"
   ]
  },
  {
   "cell_type": "markdown",
   "metadata": {},
   "source": [
    "#### **모든 keys, values 접근**\n",
    " + keys() - 키만 반환\n",
    " + values() - 값만 반환\n",
    " + items() - 키, 값의 튜플을 반환"
   ]
  },
  {
   "cell_type": "code",
   "execution_count": 21,
   "metadata": {},
   "outputs": [
    {
     "name": "stdout",
     "output_type": "stream",
     "text": [
      "{'a': 1, 'b': 2, 'c': 3}\n",
      "['a', 'b', 'c']\n",
      "[1, 2, 3]\n"
     ]
    },
    {
     "data": {
      "text/plain": [
       "[('a', 1), ('b', 2), ('c', 3)]"
      ]
     },
     "execution_count": 21,
     "metadata": {},
     "output_type": "execute_result"
    }
   ],
   "source": [
    "print(a)\n",
    "print(list(a.keys()))\n",
    "print(list(a.values()))\n",
    "\n",
    "list(a.items())"
   ]
  },
  {
   "cell_type": "markdown",
   "metadata": {},
   "source": [
    "### **set**\n",
    " + dictionary에서 key만 활용하는 데이터 구조로 이해\n",
    " + 수학에서의 집합과 동일한 개념"
   ]
  },
  {
   "cell_type": "code",
   "execution_count": 24,
   "metadata": {},
   "outputs": [
    {
     "name": "stdout",
     "output_type": "stream",
     "text": [
      "{1, 2, 3, 4, 5}\n",
      "{1, 2, 3, 4, 5}\n"
     ]
    }
   ],
   "source": [
    "a = {1, 1, 2, 3, 3, 4, 1, 5}\n",
    "print(a)\n",
    "\n",
    "##인덱싱(순서 x)\n",
    "# print(a[0]) error\n",
    "print(a)"
   ]
  },
  {
   "cell_type": "markdown",
   "metadata": {},
   "source": [
    "* **set()으로 집합으로 변환**"
   ]
  },
  {
   "cell_type": "code",
   "execution_count": 25,
   "metadata": {},
   "outputs": [
    {
     "name": "stdout",
     "output_type": "stream",
     "text": [
      "[1, 1, 2, 3, 4, 5]\n",
      "{1, 2, 3, 4, 5}\n"
     ]
    }
   ],
   "source": [
    "a = [1, 1, 2, 3, 4, 5]\n",
    "print(a)\n",
    "\n",
    "b = set(a)\n",
    "print(b)"
   ]
  },
  {
   "cell_type": "markdown",
   "metadata": {},
   "source": [
    "+ **set operations**\n",
    " - 수학 연산과 동일\n",
    " - 교집합, 합집합, 차집합 등 지원"
   ]
  },
  {
   "cell_type": "code",
   "execution_count": 29,
   "metadata": {},
   "outputs": [
    {
     "name": "stdout",
     "output_type": "stream",
     "text": [
      "{1, 2, 3, 4}\n",
      "{2, 3}\n",
      "{1}\n",
      "False\n"
     ]
    }
   ],
   "source": [
    "a = {1, 2, 3}\n",
    "b = {2, 3, 4}\n",
    "\n",
    "print(a.union(b)) # 합집합\n",
    "print(a.intersection(b)) # 교집합\n",
    "print(a.difference(b)) # 차집합\n",
    "print(a.issubset(b)) # 부분 집합"
   ]
  },
  {
   "cell_type": "code",
   "execution_count": null,
   "metadata": {},
   "outputs": [],
   "source": []
  }
 ],
 "metadata": {
  "kernelspec": {
   "display_name": "Python 3",
   "language": "python",
   "name": "python3"
  },
  "language_info": {
   "codemirror_mode": {
    "name": "ipython",
    "version": 3
   },
   "file_extension": ".py",
   "mimetype": "text/x-python",
   "name": "python",
   "nbconvert_exporter": "python",
   "pygments_lexer": "ipython3",
   "version": "3.7.6"
  }
 },
 "nbformat": 4,
 "nbformat_minor": 1
}
